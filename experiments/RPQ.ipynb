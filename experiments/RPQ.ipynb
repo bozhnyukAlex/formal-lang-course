{
 "nbformat": 4,
 "nbformat_minor": 0,
 "metadata": {
  "accelerator": "GPU",
  "colab": {
   "name": "RPQ_Experiments.ipynb",
   "provenance": [],
   "collapsed_sections": []
  },
  "kernelspec": {
   "display_name": "Python 3",
   "name": "python3"
  },
  "language_info": {
   "name": "python"
  }
 },
 "cells": [
  {
   "cell_type": "markdown",
   "metadata": {
    "id": "8jSOKupMhufx"
   },
   "source": [
    "# Задача 5. Экспериментальное исследование алгоритмов для регулярных запросов\n",
    "# Автор: [bozhnyukAlex](https://github.com/bozhnyukAlex)\n",
    "## Введение\n",
    "\n",
    "Дано: граф $G$, конечный автомат которого допускает регулярный язык $L_G$\n",
    "\n",
    "Регулярное выражение $R$, которое задает регулярный язык ограничений $L_R$\n",
    "\n",
    "Рассмотрим задачу $RPQ = \\{(v_i, v_j)|\\exists\\pi:w(v_i\\pi v_j)\\in L, v_i\\in V_S, v_j\\in V_F\\}$, где $L = L_G\\cap L_R$\n",
    "\n",
    "Построение языка пересечения задается через пересечение конечных автоматов $КА_{G}$ и $КА_{R}$.\n",
    "\n",
    "По определению $КА_3 = КА_1\\cap КА_2 = (S^{1}\\times S^{2}, \\Delta^{3}, S^{1}_S\\times S^{2}_S, S^{1}_F\\times S^{2}_F)$, где функция переходов задаётся как\n",
    "$\\Delta^{3}: (v_i, v_j)\\times l\\rightarrow (u_i, u_j)$\n",
    "\n",
    "$\n",
    "\\begin{cases}\n",
    "v_i\\in S^{1}\\times l\\rightarrow u_i\\in S^{1}\\quad\\in\\Delta^{1} \\\\\n",
    "v_j\\in S^{2}\\times l\\rightarrow u_j\\in S^{2}\\quad\\in\\Delta^{2}\n",
    "\\end{cases}$\n",
    "\n",
    "Построение функции переходов основывается на тензорном произведении матриц смежностей конечных автоматов. В работе исследуются разные реализации алогоритма пересечения конечных автоматов.\n",
    "\n",
    "## Постановка задачи\n",
    "Задача посвящена анализу производительности различных реализаций алгоритма решения задачи достижимости между всеми парами вершин с регулярными ограничениями через тензорное произведение.\n",
    "Для экспериментального исследования алгоритмов для регулярных запросов необходимо:\n",
    "- Используя pyCuBool реализовать алгоритм пересечения двух конечных автоматов через тензорное произведение;\n",
    "- Подключить написанный алгоритм из Задания 4;\n",
    "- Сформировать набор данных для экспериментов;\n",
    "- Произвести сравнительный анализ производительности реализаций алгоритмов."
   ]
  },
  {
   "cell_type": "markdown",
   "metadata": {
    "id": "rAbJ7EzDQyv2"
   },
   "source": [
    "## Дополнительные библиотеки\n",
    "Для проведения экспериментов и других вспомогательных действий потребуется библиотека для работы с таблицами [pandas](https://pandas.pydata.org/) и библиотека для работы с графиками (...). В ячейке ниже проводится их установка."
   ]
  },
  {
   "cell_type": "code",
   "metadata": {
    "id": "Usr40dKBRcVp",
    "pycharm": {
     "is_executing": true
    }
   },
   "source": [
    "!pip install pandas\n",
    "!pip install seaborn"
   ],
   "execution_count": null,
   "outputs": []
  },
  {
   "cell_type": "markdown",
   "metadata": {
    "id": "UfpAh1hNCAMV"
   },
   "source": [
    "# Исследуемые решения\n",
    "\n",
    "Матрицы смежности конечных автоматов приводятся к виду булевых матриц для избежания необходимости вводить операцию пересечения множеств в тензорном произведении (элементы матрицы смежности - подмножества меток). Булевы матрицы на практике являются сильно разреженными, для работы с ними используются следующие библиотеки:\n",
    "\n",
    "- [pyCuBool](https://pypi.org/project/pycubool/)\n",
    "- [scipy.sparse](https://docs.scipy.org/doc/scipy/reference/sparse.html)\n",
    "\n",
    "В scipy.sparce используются `dok` матрицы, в pyCuBool – матрицы, позволяющие производить вычисления на GPU.\n"
   ]
  },
  {
   "cell_type": "markdown",
   "metadata": {
    "id": "eFdlQgt89D21"
   },
   "source": [
    "## Решение с библиотекой scipy.sparce\n",
    "\n",
    "Для доступа к решению к данному типу решения требуется подключить [следующий репозиторий](https://github.com/bozhnyukAlex/formal-lang-course).\n",
    "\n",
    "Ниже осуществляется это подключение.\n"
   ]
  },
  {
   "cell_type": "code",
   "metadata": {
    "id": "5Ud57WCZCEDQ",
    "pycharm": {
     "is_executing": true
    }
   },
   "source": [
    "import sys\n",
    "\n",
    "# Установка проекта https://github.com/bozhyukAlex/formal-lang-course\n",
    "!git clone https://github.com/bozhnyukAlex/formal-lang-course\n",
    "\n",
    "# Установка зависимостей проекта\n",
    "!pip install --upgrade pip\n",
    "!pip install -r formal-lang-course/requirements.txt\n",
    "\n",
    "# Подключение директории проекта\n",
    "sys.path.insert(1, 'formal-lang-course')"
   ],
   "execution_count": null,
   "outputs": []
  },
  {
   "cell_type": "markdown",
   "metadata": {
    "id": "EBy26Qd2-HWg"
   },
   "source": [
    "## Решение с библиотекой pyCuBool\n",
    "\n",
    "Ниже приведены реализация класса для пересечения булевых матриц, а также реализация задачи $RPQ$ с помощью библиотеки pyCuBool.\n",
    "\n"
   ]
  },
  {
   "cell_type": "markdown",
   "metadata": {
    "id": "04fgMKzW_d85"
   },
   "source": [
    "### Установка библиотеки pyCuBool"
   ]
  },
  {
   "cell_type": "code",
   "metadata": {
    "id": "Nee7-pv0-3vn",
    "pycharm": {
     "is_executing": true
    }
   },
   "source": [
    "!pip install pycubool"
   ],
   "execution_count": null,
   "outputs": []
  },
  {
   "cell_type": "markdown",
   "metadata": {
    "id": "r703H93L_lZc"
   },
   "source": [
    "### Реализация класса для работы с булевыми матрицами"
   ]
  },
  {
   "cell_type": "code",
   "metadata": {
    "id": "lcuBH5w8-7DO"
   },
   "source": [
    "import pycubool as cb\n",
    "\n",
    "from pyformlang.finite_automaton import NondeterministicFiniteAutomaton, State\n",
    "\n",
    "\n",
    "class BooleanMatricesCB:\n",
    "    \"\"\"\n",
    "    Class representing boolean adjacency matrices\n",
    "    for each label of finite automaton\n",
    "\n",
    "    Attributes\n",
    "    ----------\n",
    "    indexed_states: dict\n",
    "        Renumbered (from 0) states of NFA\n",
    "    start_states: set\n",
    "        Start states of NFA\n",
    "    final_states: set\n",
    "        Final states of NFA\n",
    "    bool_matrix: dict\n",
    "        Dictionary of boolean matrices.\n",
    "        Keys are NFA labels\n",
    "    block_size: int\n",
    "        Size of a block in boolean matrix\n",
    "    \"\"\"\n",
    "\n",
    "    def __init__(self):\n",
    "        self.indexed_states = {}\n",
    "        self.start_states = set()\n",
    "        self.final_states = set()\n",
    "        self.bool_matrix = dict()\n",
    "        self.block_size = 1\n",
    "\n",
    "    @classmethod\n",
    "    def from_nfa(cls, nfa: NondeterministicFiniteAutomaton):\n",
    "        \"\"\"\n",
    "        Transforms NFA into BooleanMatricesCB\n",
    "\n",
    "        Parameters\n",
    "        ----------\n",
    "        nfa: NondeterministicFiniteAutomaton\n",
    "            NFA to transform\n",
    "        Returns\n",
    "        -------\n",
    "        obj: BooleanMatricesCB\n",
    "            BooleanMatricesCB object from NFA\n",
    "        \"\"\"\n",
    "        obj = cls()\n",
    "        obj.indexed_states = {state: idx for idx, state in enumerate(nfa.states)}\n",
    "        obj.start_states, obj.final_states = nfa.start_states, nfa.final_states\n",
    "        obj.bool_matrix = obj._nfa_to_bool_matrix(nfa)\n",
    "        return obj\n",
    "\n",
    "    def to_nfa(self):\n",
    "        \"\"\"\n",
    "        Transforms BooleanMatricesCB into NFA\n",
    "\n",
    "        Returns\n",
    "        -------\n",
    "        nfa: NondeterministicFiniteAutomaton\n",
    "            Representation of BooleanMatricesCB as NFA\n",
    "        \"\"\"\n",
    "        nfa = NondeterministicFiniteAutomaton()\n",
    "        for label in self.bool_matrix.keys():\n",
    "            length = self.bool_matrix[label].shape[0]\n",
    "            arr = self.bool_matrix[label].to_list()\n",
    "            for i in range(length):\n",
    "                for j in range(length):\n",
    "                    if (i, j) in arr:\n",
    "                        from_state = (\n",
    "                            State((i // self.block_size, i % self.block_size))\n",
    "                            if self.block_size > 1\n",
    "                            else State(i)\n",
    "                        )\n",
    "                        to_state = (\n",
    "                            State((j // self.block_size, j % self.block_size))\n",
    "                            if self.block_size > 1\n",
    "                            else State(j)\n",
    "                        )\n",
    "                        nfa.add_transition(\n",
    "                            self.indexed_states[from_state],\n",
    "                            label,\n",
    "                            self.indexed_states[to_state],\n",
    "                        )\n",
    "\n",
    "        for start_state in self.start_states:\n",
    "            nfa.add_start_state(self.indexed_states[State(start_state)])\n",
    "        for final_state in self.final_states:\n",
    "            nfa.add_final_state(self.indexed_states[State(final_state)])\n",
    "\n",
    "        return nfa\n",
    "\n",
    "    def transitive_closure(self):\n",
    "        \"\"\"\n",
    "        Computes transitive closure of boolean matrices\n",
    "\n",
    "        Returns\n",
    "        -------\n",
    "        tc: dok_matrix\n",
    "            Transitive closure of boolean matrices\n",
    "        \"\"\"\n",
    "        if not self.bool_matrix.values():\n",
    "            return cb.Matrix.empty(shape=(2, 2))\n",
    "\n",
    "        shape = list(self.bool_matrix.values())[0].shape\n",
    "        tc = cb.Matrix.empty(shape=shape)\n",
    "\n",
    "        for elem in self.bool_matrix.values():\n",
    "            tc = tc.ewiseadd(elem)\n",
    "\n",
    "        prev_nnz = tc.nvals\n",
    "        curr_nnz = 0\n",
    "\n",
    "        while prev_nnz != curr_nnz:\n",
    "            tc = tc.ewiseadd(tc.mxm(tc))\n",
    "            prev_nnz, curr_nnz = curr_nnz, tc.nvals\n",
    "\n",
    "        return tc\n",
    "\n",
    "    def _nfa_to_bool_matrix(self, nfa: NondeterministicFiniteAutomaton):\n",
    "        \"\"\"\n",
    "        Parameters\n",
    "        ----------\n",
    "        nfa: NondeterministicFiniteAutomaton\n",
    "            NFA to transform to matrix\n",
    "\n",
    "        Returns\n",
    "        -------\n",
    "        bool_matrix: dict\n",
    "            Dict of boolean matrix for every automata label-key\n",
    "        \"\"\"\n",
    "        bool_matrix = dict()\n",
    "        nfa_dict = nfa.to_dict()\n",
    "        for label in nfa.symbols:\n",
    "            tmp_matrix = cb.Matrix.empty(shape=(len(nfa.states), len(nfa.states)))\n",
    "            for state_from, transitions in nfa_dict.items():\n",
    "                if label in transitions:\n",
    "                    states_to = (\n",
    "                        transitions[label]\n",
    "                        if isinstance(transitions[label], set)\n",
    "                        else {transitions[label]}\n",
    "                    )\n",
    "                    for state_to in states_to:\n",
    "                        tmp_matrix[\n",
    "                            self.indexed_states[state_from],\n",
    "                            self.indexed_states[state_to],\n",
    "                        ] = True\n",
    "            bool_matrix[label] = tmp_matrix\n",
    "        return bool_matrix\n",
    "\n",
    "    def intersect(self, other):\n",
    "        \"\"\"\n",
    "        Returns a new class object containing\n",
    "        the Kronecker products for given matrices\n",
    "\n",
    "        Parameters\n",
    "        ----------\n",
    "        other: BooleanMatricesCB\n",
    "            Right-hand side boolean matrix\n",
    "        Returns\n",
    "        -------\n",
    "        intersection: BooleanMatricesCB\n",
    "            Intersection of two boolean matrices\n",
    "        \"\"\"\n",
    "        intersection = BooleanMatricesCB()\n",
    "        common_labels = self.bool_matrix.keys() & other.bool_matrix.keys()\n",
    "\n",
    "        for label in common_labels:\n",
    "            intersection.bool_matrix[label] = self.bool_matrix[label].kronecker(other.bool_matrix[label])\n",
    "\n",
    "        for state_lhs, s_lhs_index in self.indexed_states.items():\n",
    "            for state_rhs, s_rhs_index in other.indexed_states.items():\n",
    "                new_state = new_state_idx = (\n",
    "                    s_lhs_index * len(other.indexed_states) + s_rhs_index\n",
    "                )\n",
    "                intersection.indexed_states[new_state] = new_state_idx\n",
    "\n",
    "                if state_lhs in self.start_states and state_rhs in other.start_states:\n",
    "                    intersection.start_states.add(new_state)\n",
    "\n",
    "                if state_lhs in self.final_states and state_rhs in other.final_states:\n",
    "                    intersection.final_states.add(new_state)\n",
    "\n",
    "        return intersection"
   ],
   "execution_count": null,
   "outputs": []
  },
  {
   "cell_type": "markdown",
   "metadata": {
    "id": "P7S9pIis_xu_"
   },
   "source": [
    "### Реализация алгоритма для решения задачи $RPQ$"
   ]
  },
  {
   "cell_type": "code",
   "metadata": {
    "id": "AL23MhiQ_6mt"
   },
   "source": [
    "from networkx import MultiDiGraph\n",
    "from pyformlang.regular_expression import Regex\n",
    "\n",
    "from project import graph_to_nfa\n",
    "\n",
    "\n",
    "def rpqCB(\n",
    "    graph: MultiDiGraph, query: Regex, start_nodes: set = None, final_nodes: set = None\n",
    "):\n",
    "    \"\"\"\n",
    "    This function solves Regular Path Querying problem for\n",
    "    giving graph, regex query with possibility of input start and final nodes\n",
    "\n",
    "    Parameters\n",
    "    ----------\n",
    "    graph: nx.MultiDiGraph\n",
    "        Graph for working with queries\n",
    "    query: Regex\n",
    "        Query represented by regex\n",
    "    start_nodes:\n",
    "        Set of start nodes in graph\n",
    "    final_nodes:\n",
    "        Set of final nodes in graph\n",
    "\n",
    "    Returns\n",
    "    -------\n",
    "    set:\n",
    "        Set of pairs with answer to RPG problem\n",
    "\n",
    "    \"\"\"\n",
    "\n",
    "    graph_bm = BooleanMatricesCB.from_nfa(\n",
    "        graph_to_nfa(graph, start_nodes, final_nodes)\n",
    "    )\n",
    "    query_bm = BooleanMatricesCB.from_nfa(query.to_epsilon_nfa().minimize())\n",
    "\n",
    "    intersection = graph_bm.intersect(query_bm)\n",
    "    tc = intersection.transitive_closure()\n",
    "\n",
    "    result = set()\n",
    "    for state_from, state_to in tc.to_list():\n",
    "        if (\n",
    "            state_from in intersection.start_states\n",
    "            and state_to in intersection.final_states\n",
    "        ):\n",
    "            result.add(\n",
    "                (\n",
    "                    state_from // len(query_bm.indexed_states),\n",
    "                    state_to // len(query_bm.indexed_states),\n",
    "                )\n",
    "            )\n",
    "\n",
    "    return result"
   ],
   "execution_count": null,
   "outputs": []
  },
  {
   "cell_type": "markdown",
   "metadata": {
    "id": "awSysb82WDb-"
   },
   "source": [
    "# Описание данных для экспериментов\n",
    "\n",
    "\n"
   ]
  },
  {
   "cell_type": "markdown",
   "metadata": {
    "id": "Qu_rqjl20XSO"
   },
   "source": [
    "## Графы\n",
    "\n",
    "В качестве графов $G$ будем использовать графы из [RDF](https://jetbrains-research.github.io/CFPQ_Data/dataset/RDF.html) датасета."
   ]
  },
  {
   "cell_type": "markdown",
   "metadata": {
    "id": "L4xr0L1L11NX"
   },
   "source": [
    "### Имена графов"
   ]
  },
  {
   "cell_type": "code",
   "metadata": {
    "id": "PTf483gxU5PC"
   },
   "source": [
    "GRAPH_NAMES = (\n",
    "     \"skos\",\n",
    "     \"generations\",\n",
    "     \"travel\",\n",
    "     \"univ_bench\",\n",
    "     \"atom_primitive\",\n",
    "     \"biomedical_mesure_primitive\",\n",
    "     \"foaf\",\n",
    "     \"people_pets\",\n",
    "     \"funding\",\n",
    "     \"wine\",\n",
    "     \"pizza\",\n",
    "     \"core\",\n",
    "     \"pathways\",\n",
    "     \"enzyme\",\n",
    "     \"eclass_514en\",\n",
    "     \"go_hierarchy\",\n",
    "     \"go\",\n",
    "     \"geospecies\",\n",
    ")\n",
    "SHORT_GRAPH_NAMES = {\n",
    "    \"skos\": \"skos\",\n",
    "    \"generations\": \"generations\",\n",
    "    \"travel\": \"travel\",\n",
    "    \"univ_bench\": \"univ\",\n",
    "    \"atom_primitive\": \"atom\",\n",
    "    \"biomedical_mesure_primitive\": \"biomed\",\n",
    "    \"foaf\": \"foaf\",\n",
    "    \"people_pets\": \"p_pets\",\n",
    "    \"funding\": \"funding\",\n",
    "    \"wine\": \"wine\",\n",
    "    \"pizza\": \"pizza\",\n",
    "    \"core\": \"core\",\n",
    "    \"pathways\": \"pathways\",\n",
    "    \"enzyme\": \"enzyme\",\n",
    "    \"eclass_514en\": \"eclass\",\n",
    "    \"go_hierarchy\": \"go_hier\",\n",
    "    \"go\": \"go\",\n",
    "    \"geospecies\": \"geospec\",\n",
    "}"
   ],
   "execution_count": null,
   "outputs": []
  },
  {
   "cell_type": "markdown",
   "metadata": {
    "collapsed": false,
    "id": "Xu7IbgDPCEDS"
   },
   "source": [
    "### Информация о графах\n",
    "\n",
    "В таблице ниже приведена информация о количестве вершин и ребер для каждого используемого графа."
   ]
  },
  {
   "cell_type": "code",
   "metadata": {
    "colab": {
     "base_uri": "https://localhost:8080/",
     "height": 661
    },
    "id": "bqt5cJSdCEDS",
    "outputId": "e30bf1e8-1bae-4102-e931-9244d0683626"
   },
   "source": [
    "from project import get_graph_info\n",
    "import pandas as pd\n",
    "\n",
    "\n",
    "\n",
    "e_counts = []\n",
    "n_counts = []\n",
    "l_counts = []\n",
    "\n",
    "for graph_name in GRAPH_NAMES:\n",
    "  graph_info = get_graph_info(graph_name)\n",
    "  edges_count, nodes_count = graph_info.edges_count, graph_info.nodes_count\n",
    "  l_count = len(graph_info.labels)\n",
    "  e_counts.append(edges_count)\n",
    "  n_counts.append(nodes_count)\n",
    "  l_counts.append(l_count)\n",
    "  \n",
    "df = pd.DataFrame(\n",
    "    {\n",
    "      \"Edges count\": e_counts,\n",
    "      \"Nodes count\": n_counts,\n",
    "      \"Labels count\": l_counts\n",
    "    },\n",
    "    index=GRAPH_NAMES\n",
    ")\n",
    "df\n",
    "  "
   ],
   "execution_count": null,
   "outputs": [
    {
     "output_type": "stream",
     "name": "stderr",
     "text": [
      "file:///usr/local/lib/python3.7/dist-packages/cfpq_data/data/RDF/Graphs/<http:/sw.opencyc.org/concept/Mx4rvVi495wpEbGdrcN5Y29ycA> does not look like a valid URI, trying to serialize this will break.\n",
      "file:///usr/local/lib/python3.7/dist-packages/cfpq_data/data/RDF/Graphs/<http:/sw.opencyc.org/concept/Mx4rvVi495wpEbGdrcN5Y29ycA> does not look like a valid URI, trying to serialize this will break.\n"
     ]
    },
    {
     "output_type": "execute_result",
     "data": {
      "text/html": [
       "<div>\n",
       "<style scoped>\n",
       "    .dataframe tbody tr th:only-of-type {\n",
       "        vertical-align: middle;\n",
       "    }\n",
       "\n",
       "    .dataframe tbody tr th {\n",
       "        vertical-align: top;\n",
       "    }\n",
       "\n",
       "    .dataframe thead th {\n",
       "        text-align: right;\n",
       "    }\n",
       "</style>\n",
       "<table border=\"1\" class=\"dataframe\">\n",
       "  <thead>\n",
       "    <tr style=\"text-align: right;\">\n",
       "      <th></th>\n",
       "      <th>Edges count</th>\n",
       "      <th>Nodes count</th>\n",
       "      <th>Labels count</th>\n",
       "    </tr>\n",
       "  </thead>\n",
       "  <tbody>\n",
       "    <tr>\n",
       "      <th>skos</th>\n",
       "      <td>144</td>\n",
       "      <td>252</td>\n",
       "      <td>21</td>\n",
       "    </tr>\n",
       "    <tr>\n",
       "      <th>generations</th>\n",
       "      <td>129</td>\n",
       "      <td>273</td>\n",
       "      <td>17</td>\n",
       "    </tr>\n",
       "    <tr>\n",
       "      <th>travel</th>\n",
       "      <td>131</td>\n",
       "      <td>277</td>\n",
       "      <td>22</td>\n",
       "    </tr>\n",
       "    <tr>\n",
       "      <th>univ_bench</th>\n",
       "      <td>179</td>\n",
       "      <td>293</td>\n",
       "      <td>14</td>\n",
       "    </tr>\n",
       "    <tr>\n",
       "      <th>atom_primitive</th>\n",
       "      <td>291</td>\n",
       "      <td>425</td>\n",
       "      <td>17</td>\n",
       "    </tr>\n",
       "    <tr>\n",
       "      <th>biomedical_mesure_primitive</th>\n",
       "      <td>341</td>\n",
       "      <td>459</td>\n",
       "      <td>10</td>\n",
       "    </tr>\n",
       "    <tr>\n",
       "      <th>foaf</th>\n",
       "      <td>256</td>\n",
       "      <td>631</td>\n",
       "      <td>15</td>\n",
       "    </tr>\n",
       "    <tr>\n",
       "      <th>people_pets</th>\n",
       "      <td>337</td>\n",
       "      <td>640</td>\n",
       "      <td>25</td>\n",
       "    </tr>\n",
       "    <tr>\n",
       "      <th>funding</th>\n",
       "      <td>778</td>\n",
       "      <td>1086</td>\n",
       "      <td>20</td>\n",
       "    </tr>\n",
       "    <tr>\n",
       "      <th>wine</th>\n",
       "      <td>733</td>\n",
       "      <td>1839</td>\n",
       "      <td>35</td>\n",
       "    </tr>\n",
       "    <tr>\n",
       "      <th>pizza</th>\n",
       "      <td>671</td>\n",
       "      <td>1980</td>\n",
       "      <td>23</td>\n",
       "    </tr>\n",
       "    <tr>\n",
       "      <th>core</th>\n",
       "      <td>1323</td>\n",
       "      <td>2752</td>\n",
       "      <td>31</td>\n",
       "    </tr>\n",
       "    <tr>\n",
       "      <th>pathways</th>\n",
       "      <td>6238</td>\n",
       "      <td>12363</td>\n",
       "      <td>5</td>\n",
       "    </tr>\n",
       "    <tr>\n",
       "      <th>enzyme</th>\n",
       "      <td>48815</td>\n",
       "      <td>86543</td>\n",
       "      <td>14</td>\n",
       "    </tr>\n",
       "    <tr>\n",
       "      <th>eclass_514en</th>\n",
       "      <td>239111</td>\n",
       "      <td>360248</td>\n",
       "      <td>10</td>\n",
       "    </tr>\n",
       "    <tr>\n",
       "      <th>go_hierarchy</th>\n",
       "      <td>45007</td>\n",
       "      <td>490109</td>\n",
       "      <td>1</td>\n",
       "    </tr>\n",
       "    <tr>\n",
       "      <th>go</th>\n",
       "      <td>582929</td>\n",
       "      <td>1437437</td>\n",
       "      <td>47</td>\n",
       "    </tr>\n",
       "    <tr>\n",
       "      <th>geospecies</th>\n",
       "      <td>450609</td>\n",
       "      <td>2201532</td>\n",
       "      <td>165</td>\n",
       "    </tr>\n",
       "  </tbody>\n",
       "</table>\n",
       "</div>"
      ],
      "text/plain": [
       "                             Edges count  Nodes count  Labels count\n",
       "skos                                 144          252            21\n",
       "generations                          129          273            17\n",
       "travel                               131          277            22\n",
       "univ_bench                           179          293            14\n",
       "atom_primitive                       291          425            17\n",
       "biomedical_mesure_primitive          341          459            10\n",
       "foaf                                 256          631            15\n",
       "people_pets                          337          640            25\n",
       "funding                              778         1086            20\n",
       "wine                                 733         1839            35\n",
       "pizza                                671         1980            23\n",
       "core                                1323         2752            31\n",
       "pathways                            6238        12363             5\n",
       "enzyme                             48815        86543            14\n",
       "eclass_514en                      239111       360248            10\n",
       "go_hierarchy                       45007       490109             1\n",
       "go                                582929      1437437            47\n",
       "geospecies                        450609      2201532           165"
      ]
     },
     "metadata": {},
     "execution_count": 8
    }
   ]
  },
  {
   "cell_type": "markdown",
   "metadata": {
    "collapsed": false,
    "id": "FLl0IXrxCEDT"
   },
   "source": [
    "## Запросы\n",
    "\n",
    "Запросы представляют из себя регулярные выражения.\n",
    "В рамках подготовки к эксперименту они подбираются так, чтобы в них использовались все общепринятые конструкции регулярных выражений (замыкание, конкатенация, альтернатива).\n",
    "\n",
    "В итоге, имеется следующий набор из четырех запросов:\n",
    "- $L_1\\ (L_2\\  |\\  L_3)^*$\n",
    "- $L_1^*\\  (L_2\\  |\\  L_3)^*$\n",
    "- $(L_4\\  |\\  L_2)^*\\  L_1\\  L_2\\  l_3$\n",
    "- $(L_1\\  |\\  L_4)^*\\  |\\ (L_2\\  |\\  L_3)^*$"
   ]
  },
  {
   "cell_type": "markdown",
   "metadata": {
    "id": "3F67ufZz544A"
   },
   "source": [
    "### Генерация запросов\n",
    "\n",
    "Функции ниже отвечают за генерацию запросов как регулярных выражений."
   ]
  },
  {
   "cell_type": "code",
   "metadata": {
    "id": "qF8CcuFX7tOa"
   },
   "source": [
    "from pyformlang.regular_expression.regex_objects import Symbol\n",
    "\n",
    "def regex_from_label(label):\n",
    "  regex = Regex(\"\")\n",
    "  regex.head = Symbol(str(label))\n",
    "  return regex\n",
    "\n",
    "def regex_first(labels):\n",
    "  \"\"\"\n",
    "  L1 (L2 | L3)*\n",
    "  \"\"\"\n",
    "  len_labels = len(labels)\n",
    "  if len_labels >= 3:\n",
    "    regex_1 = regex_from_label(labels[0])\n",
    "    regex_2 = regex_from_label(labels[1])\n",
    "    regex_3 = regex_from_label(labels[2])\n",
    "  elif len_labels == 2:\n",
    "    regex_1 = regex_from_label(labels[0])\n",
    "    regex_2 = regex_from_label(labels[1])\n",
    "    regex_3 = regex_2\n",
    "  elif len_labels == 1:\n",
    "    regex_1 = regex_from_label(labels[0])\n",
    "    regex_2 = regex_1\n",
    "    regex_3 = regex_2\n",
    "\n",
    "  return regex_1.concatenate((regex_2.union(regex_3)).kleene_star())\n",
    "\n",
    "def regex_second(labels):\n",
    "  \"\"\"\n",
    "   L1* (L2 | L3)*\n",
    "  \"\"\"\n",
    "  len_labels = len(labels)\n",
    "  if len_labels >= 3:\n",
    "    regex_1 = regex_from_label(labels[0])\n",
    "    regex_2 = regex_from_label(labels[1])\n",
    "    regex_3 = regex_from_label(labels[2])\n",
    "  elif len_labels == 2:\n",
    "    regex_1 = regex_from_label(labels[0])\n",
    "    regex_2 = regex_from_label(labels[1])\n",
    "    regex_3 = regex_2\n",
    "  elif len_labels == 1:\n",
    "    regex_1 = regex_from_label(labels[0])\n",
    "    regex_2 = regex_1\n",
    "    regex_3 = regex_2\n",
    "\n",
    "  return regex_1.kleene_star().concatenate((regex_2.union(regex_3).kleene_star()))\n",
    "\n",
    "def regex_third(labels):\n",
    "  \"\"\"\n",
    "  (L4 | L2)* L1 L2 L3\n",
    "  \"\"\" \n",
    "  len_labels = len(labels)\n",
    "  if len_labels >= 4:\n",
    "    regex_1 = regex_from_label(labels[0])\n",
    "    regex_2 = regex_from_label(labels[1])\n",
    "    regex_3 = regex_from_label(labels[2])\n",
    "    regex_4 = regex_from_label(labels[3])\n",
    "  elif len_labels == 3:\n",
    "    regex_1 = regex_from_label(labels[0])\n",
    "    regex_2 = regex_from_label(labels[1])\n",
    "    regex_3 = regex_from_label(labels[2])\n",
    "    regex_4 = regex_3\n",
    "  elif len_labels == 2:\n",
    "    regex_1 = regex_from_label(labels[0])\n",
    "    regex_2 = regex_from_label(labels[1])\n",
    "    regex_3 = regex_2\n",
    "    regex_4 = regex_3\n",
    "  elif len_labels == 1:\n",
    "    regex_1 = regex_from_label(labels[0])\n",
    "    regex_2 = regex_1\n",
    "    regex_3 = regex_2\n",
    "    regex_4 = regex_3\n",
    "\n",
    "  left_regex = regex_4.union(regex_2).kleene_star()\n",
    "  return left_regex.concatenate(regex_1).concatenate(regex_2).concatenate(regex_3)\n",
    "\n",
    "def regex_fourth(labels):\n",
    "  \"\"\"\n",
    "  (L1 | L4)* | (L2 | L3)*\n",
    "  \"\"\"\n",
    "  len_labels = len(labels)\n",
    "  if len_labels >= 4:\n",
    "    regex_1 = regex_from_label(labels[0])\n",
    "    regex_2 = regex_from_label(labels[1])\n",
    "    regex_3 = regex_from_label(labels[2])\n",
    "    regex_4 = regex_from_label(labels[3])\n",
    "  elif len_labels == 3:\n",
    "    regex_1 = regex_from_label(labels[0])\n",
    "    regex_2 = regex_from_label(labels[1])\n",
    "    regex_3 = regex_from_label(labels[2])\n",
    "    regex_4 = regex_3\n",
    "  elif len_labels == 2:\n",
    "    regex_1 = regex_from_label(labels[0])\n",
    "    regex_2 = regex_from_label(labels[1])\n",
    "    regex_3 = regex_2\n",
    "    regex_4 = regex_3\n",
    "  elif len_labels == 1:\n",
    "    regex_1 = regex_from_label(labels[0])\n",
    "    regex_2 = regex_1\n",
    "    regex_3 = regex_2\n",
    "    regex_4 = regex_3\n",
    "  left_regex = (regex_1.union(regex_4)).kleene_star()\n",
    "  right_regex = (regex_2.union(regex_3)).kleene_star()\n",
    "  return left_regex.union(right_regex)\n",
    "\n",
    "REGEX_GENERATORS = (regex_first, regex_second, regex_third, regex_fourth)"
   ],
   "execution_count": null,
   "outputs": []
  },
  {
   "cell_type": "markdown",
   "metadata": {
    "id": "SlKtQ_e9Wf3z"
   },
   "source": [
    "# Описание экспериментов\n"
   ]
  },
  {
   "cell_type": "markdown",
   "metadata": {
    "id": "LTi_-ws6DhnG"
   },
   "source": [
    "### Методология проведения измерений\n",
    "\n",
    "Для графов, количество рёбер и вершин которого не превышает 50.000, время выполнения функции построения $RPQ$ для каждого запроса замеряется 3 раза *(Best of 3)*. Для остальных графов (начиная с `enzyme`) время выполнение функции замеряется единожды для каждого запроса.\n",
    "\n",
    "Данное решение обосновано незначительностью погрешности времени выполнения для \"тяжелых\" графов. Более того, вычислительная сложность задачи построения RPQ на подобных графах превышает вычислительные возможности бесплатного тарифа Google Colab, на котором изначально проводились данные эксперименты. "
   ]
  },
  {
   "cell_type": "markdown",
   "metadata": {
    "id": "QrmsuiYKJoFe"
   },
   "source": [
    "### Среда выполнения\n",
    "\n"
   ]
  },
  {
   "cell_type": "markdown",
   "metadata": {
    "id": "bJDTtr68Oypt"
   },
   "source": [
    "Операционная система:"
   ]
  },
  {
   "cell_type": "code",
   "metadata": {
    "id": "kQ5eugpjPCvZ",
    "colab": {
     "base_uri": "https://localhost:8080/"
    },
    "outputId": "dbbd675e-538e-462a-8999-4271e8268566"
   },
   "source": [
    "!cat /etc/os-release"
   ],
   "execution_count": null,
   "outputs": [
    {
     "output_type": "stream",
     "name": "stdout",
     "text": [
      "NAME=\"Ubuntu\"\n",
      "VERSION=\"18.04.5 LTS (Bionic Beaver)\"\n",
      "ID=ubuntu\n",
      "ID_LIKE=debian\n",
      "PRETTY_NAME=\"Ubuntu 18.04.5 LTS\"\n",
      "VERSION_ID=\"18.04\"\n",
      "HOME_URL=\"https://www.ubuntu.com/\"\n",
      "SUPPORT_URL=\"https://help.ubuntu.com/\"\n",
      "BUG_REPORT_URL=\"https://bugs.launchpad.net/ubuntu/\"\n",
      "PRIVACY_POLICY_URL=\"https://www.ubuntu.com/legal/terms-and-policies/privacy-policy\"\n",
      "VERSION_CODENAME=bionic\n",
      "UBUNTU_CODENAME=bionic\n"
     ]
    }
   ]
  },
  {
   "cell_type": "markdown",
   "metadata": {
    "id": "2g416KZbO11k"
   },
   "source": [
    "CPU:"
   ]
  },
  {
   "cell_type": "code",
   "metadata": {
    "id": "b1IKy5yMPDIR",
    "colab": {
     "base_uri": "https://localhost:8080/"
    },
    "outputId": "d128f73c-bb13-4e55-fdec-6d1109ff46b9"
   },
   "source": [
    "!lscpu | grep 'Model name'\n",
    "!lscpu | grep 'Socket(s)'\n",
    "!lscpu | grep 'Core(s) per socket:'\n",
    "!lscpu | grep 'Thread(s) per core'\n",
    "!lscpu | grep \"MHz\""
   ],
   "execution_count": null,
   "outputs": [
    {
     "output_type": "stream",
     "name": "stdout",
     "text": [
      "Model name:          Intel(R) Xeon(R) CPU @ 2.30GHz\n",
      "Socket(s):           1\n",
      "Core(s) per socket:  1\n",
      "Thread(s) per core:  2\n",
      "CPU MHz:             2299.998\n"
     ]
    }
   ]
  },
  {
   "cell_type": "markdown",
   "metadata": {
    "id": "RfghrhJLO4iT"
   },
   "source": [
    "GPU:"
   ]
  },
  {
   "cell_type": "code",
   "metadata": {
    "id": "ErLnu4rZPDsy",
    "colab": {
     "base_uri": "https://localhost:8080/"
    },
    "outputId": "79facba5-9897-4bf1-a9eb-6ea7e81ce777"
   },
   "source": [
    "!nvidia-smi"
   ],
   "execution_count": null,
   "outputs": [
    {
     "output_type": "stream",
     "name": "stdout",
     "text": [
      "Tue Oct 12 19:16:34 2021       \n",
      "+-----------------------------------------------------------------------------+\n",
      "| NVIDIA-SMI 470.74       Driver Version: 460.32.03    CUDA Version: 11.2     |\n",
      "|-------------------------------+----------------------+----------------------+\n",
      "| GPU  Name        Persistence-M| Bus-Id        Disp.A | Volatile Uncorr. ECC |\n",
      "| Fan  Temp  Perf  Pwr:Usage/Cap|         Memory-Usage | GPU-Util  Compute M. |\n",
      "|                               |                      |               MIG M. |\n",
      "|===============================+======================+======================|\n",
      "|   0  Tesla K80           Off  | 00000000:00:04.0 Off |                    0 |\n",
      "| N/A   53C    P8    31W / 149W |      3MiB / 11441MiB |      0%      Default |\n",
      "|                               |                      |                  N/A |\n",
      "+-------------------------------+----------------------+----------------------+\n",
      "                                                                               \n",
      "+-----------------------------------------------------------------------------+\n",
      "| Processes:                                                                  |\n",
      "|  GPU   GI   CI        PID   Type   Process name                  GPU Memory |\n",
      "|        ID   ID                                                   Usage      |\n",
      "|=============================================================================|\n",
      "|  No running processes found                                                 |\n",
      "+-----------------------------------------------------------------------------+\n"
     ]
    }
   ]
  },
  {
   "cell_type": "markdown",
   "metadata": {
    "id": "8npP0ElhO6KY"
   },
   "source": [
    "RAM:"
   ]
  },
  {
   "cell_type": "code",
   "metadata": {
    "id": "843GCUV-PEI8",
    "colab": {
     "base_uri": "https://localhost:8080/"
    },
    "outputId": "a0b83031-eb30-4d0a-a104-7ab0432647bb"
   },
   "source": [
    "!echo 'Total RAM (GB)'\n",
    "!awk '( $1 == \"MemTotal:\" ) { print $2/1048576 }' /proc/meminfo"
   ],
   "execution_count": null,
   "outputs": [
    {
     "output_type": "stream",
     "name": "stdout",
     "text": [
      "Total RAM (GB)\n",
      "12.6867\n"
     ]
    }
   ]
  },
  {
   "cell_type": "markdown",
   "metadata": {
    "id": "QbwbpFEINP6m"
   },
   "source": [
    "# Эксперимент"
   ]
  },
  {
   "cell_type": "code",
   "execution_count": null,
   "outputs": [],
   "source": [
    "import pandas as pd\n",
    "\n",
    "regex_str_list = [regex.__doc__.strip().strip('\\n') for regex in REGEX_GENERATORS]\n",
    "\n",
    "df_sparse_res = pd.DataFrame(index=regex_str_list, columns=SHORT_GRAPH_NAMES.values())\n",
    "\n",
    "df_pycubool_res = pd.DataFrame(index=regex_str_list, columns=SHORT_GRAPH_NAMES.values())"
   ],
   "metadata": {
    "collapsed": false,
    "pycharm": {
     "name": "#%%\n"
    }
   }
  },
  {
   "cell_type": "code",
   "execution_count": null,
   "outputs": [],
   "source": [
    "import signal\n",
    "import time\n",
    "\n",
    "from cfpq_data import graph_from_dataset, get_labels\n",
    "\n",
    "def signal_handler(signum, frame):\n",
    "    raise Exception(\"Timed out!\")\n",
    "\n",
    "signal.signal(signal.SIGALRM, signal_handler)\n",
    "\n",
    "def run_and_measure_rpq(algo, graph_name, queries, run_number, dataframe, timeouts=None):\n",
    "    measurement_time = {query_index: [] for query_index in range(len(queries))}\n",
    "    graph = graph_from_dataset(graph_name, verbose=False)\n",
    "    labels = list(get_labels(graph, verbose=False))\n",
    "    for _ in range(run_number):\n",
    "        for query_index, query in enumerate(queries):\n",
    "            print(f\"Graph: {graph_name}; Regex: {query.__doc__}; DONE: \", end='')\n",
    "            start_time = end_time = None\n",
    "            regular_expression = query(labels)\n",
    "            if timeouts:\n",
    "                signal.alarm(int(timeouts[query_index] + 1))\n",
    "            try:\n",
    "                start_time = time.time()\n",
    "                algo(graph, regular_expression)\n",
    "                end_time = time.time()\n",
    "            except Exception:\n",
    "                ent_time = time.time()\n",
    "            measurement_time[query_index].append(end_time - start_time)\n",
    "            print(\"OK\")\n",
    "\n",
    "    for query_index, time_lst in measurement_time.items():\n",
    "        avg_time = sum(time_lst) / run_number\n",
    "        dataframe.loc[regex_str_list[query_index],\n",
    "                      SHORT_GRAPH_NAMES[graph_name]] = avg_time"
   ],
   "metadata": {
    "collapsed": false,
    "pycharm": {
     "name": "#%%\n"
    }
   }
  },
  {
   "cell_type": "markdown",
   "source": [
    "### Для удобства явно разделим графы на \"лёгкие\" и \"тяжелые\""
   ],
   "metadata": {
    "collapsed": false
   }
  },
  {
   "cell_type": "code",
   "execution_count": null,
   "outputs": [],
   "source": [
    "LIGHT_GRAPHS = GRAPH_NAMES[:-5]\n",
    "HEAVY_GRAPHS = GRAPH_NAMES[-5:]"
   ],
   "metadata": {
    "collapsed": false,
    "pycharm": {
     "name": "#%%\n"
    }
   }
  },
  {
   "cell_type": "markdown",
   "source": [
    "### Сбор данных о времени выполнения на лёгких графах\n",
    "#### Анализ времени выполнения алгоритма на `scipy.sparse`"
   ],
   "metadata": {
    "collapsed": false
   }
  },
  {
   "cell_type": "code",
   "execution_count": null,
   "outputs": [],
   "source": [
    "# Comment magic function below to see the computation progress\n",
    "%%capture\n",
    "# =======\n",
    "\n",
    "print(\"=== ALGORITHM BASED ON scipy.sparse ===\")\n",
    "for graph_name in LIGHT_GRAPHS:\n",
    "    run_and_measure_rpq(rpq, graph_name, REGEX_GENERATORS, 5, dataframe=df_sparse_res)"
   ],
   "metadata": {
    "collapsed": false,
    "pycharm": {
     "name": "#%%\n"
    }
   }
  },
  {
   "cell_type": "markdown",
   "source": [
    "#### Анализ времени выполнения алгоритма на `pycubool`"
   ],
   "metadata": {
    "collapsed": false
   }
  },
  {
   "cell_type": "code",
   "execution_count": null,
   "outputs": [],
   "source": [
    "# Comment magic function below to see the computation progress\n",
    "%%capture\n",
    "# =======\n",
    "\n",
    "print(\"=== ALGORITHM BASED ON pycubool ===\")\n",
    "for graph_name in LIGHT_GRAPHS:\n",
    "    run_and_measure_rpq(rpqCB, graph_name, REGEX_GENERATORS, 5, dataframe=df_pycubool_res)"
   ],
   "metadata": {
    "collapsed": false,
    "pycharm": {
     "name": "#%%\n"
    }
   }
  },
  {
   "cell_type": "markdown",
   "source": [
    "### Сбор данных о выполнении тяжелых графов\n",
    "Сперва запустим вычисления, используя алгоритм `pycubool`. После этого поставим верхний предел по времени для выполнения алгоритма `scipy.sparse`."
   ],
   "metadata": {
    "collapsed": false
   }
  },
  {
   "cell_type": "code",
   "execution_count": null,
   "outputs": [],
   "source": [
    "print(\"=== ALGORITHM BASED ON pycubool ===\")\n",
    "for graph_name in HEAVY_GRAPHS:\n",
    "    run_and_measure_rpq(rpqCB, graph_name, REGEX_GENERATORS, 1, df_pycubool_res)"
   ],
   "metadata": {
    "collapsed": false,
    "pycharm": {
     "name": "#%%\n"
    }
   }
  },
  {
   "cell_type": "markdown",
   "source": [
    "### Подсчёт предела времени выполнения\n",
    "\n",
    "Если алгоритм `scipy.sparse` работает хотя бы в 1.2 раза дольше на данном тяжелом графе, то пусть его выполнение приостанавливается."
   ],
   "metadata": {
    "collapsed": false
   }
  },
  {
   "cell_type": "code",
   "execution_count": null,
   "outputs": [],
   "source": [
    "HEAVY_TIMEOUTS = {graph_name: list(df_pycubool_res[SHORT_GRAPH_NAMES[graph_name]]) for graph_name in HEAVY_GRAPHS}\n",
    "for key in HEAVY_TIMEOUTS:\n",
    "    HEAVY_TIMEOUTS[key] = list(map(lambda x: 1.2 * x, HEAVY_TIMEOUTS[key]))"
   ],
   "metadata": {
    "collapsed": false,
    "pycharm": {
     "name": "#%%\n"
    }
   }
  },
  {
   "cell_type": "code",
   "execution_count": null,
   "outputs": [],
   "source": [
    "print(\"=== ALGORITHM BASED ON scipy.sparse ===\")\n",
    "for graph_name in HEAVY_GRAPHS:\n",
    "    try:\n",
    "        run_and_measure_rpq(rpq, graph_name, REGEX_GENERATORS, 1, df_sparse_res, HEAVY_TIMEOUTS[graph_name])\n",
    "    except Exception:\n",
    "        pass"
   ],
   "metadata": {
    "collapsed": false,
    "pycharm": {
     "name": "#%%\n"
    }
   }
  },
  {
   "cell_type": "markdown",
   "metadata": {
    "id": "dgUFVM7tL4a0"
   },
   "source": [
    "# Результаты экспериментов"
   ]
  },
  {
   "cell_type": "markdown",
   "metadata": {
    "id": "W2UTZK7XdXhS"
   },
   "source": [
    "### Алгоритм, основанный на scipy.sparse\n",
    "#### Время работы алгоритма (в мс) в зависимости от графа и регулярного выражения:\n"
   ]
  },
  {
   "cell_type": "code",
   "metadata": {
    "id": "ac9fbBm_AMAr",
    "outputId": "4ac6af27-24f5-4a5a-8c10-f36400184201"
   },
   "source": [
    "df_sparse_res"
   ],
   "execution_count": null,
   "outputs": [
    {
     "data": {
      "text/plain": "                   Queries       skos  generations     travel  univ_bench  \\\n0            L1 (L2 | L3)*  27.507620    29.216950  28.726575   33.628161   \n1           L1* (L2 | L3)*  28.553018    30.307510  29.040275   32.708838   \n2      (L4 | L2)* L1 L2 L3  32.723814    32.373796  33.438435   35.911215   \n3  (L1 | L4)* | (L2 | L3)*  31.160785    33.650010  32.105690   35.054784   \n\n   atom_primitive  biomedical_mesure_primitive       foaf  people_pets  \\\n0       47.885875                    58.577086  59.690414    66.832614   \n1       48.506873                    55.176651  64.703553    67.320527   \n2       53.295124                    62.544296  61.782723    74.330668   \n3       52.518852                    58.151427  66.136575    69.087267   \n\n      funding        wine       pizza        core     pathways       enzyme  \\\n0  114.577661  169.754683  175.572096  274.748120  1248.813167  8379.383736   \n1  118.489582  173.989737  174.370239  273.645434  1248.305383  8518.943775   \n2  122.876851  190.271286  184.534778  289.794789  1306.699510  9071.258657   \n3  125.098088  184.066569  183.642657  291.481069  1279.326143  8737.727205   \n\n   eclass_514en  go_hierarchy             go     geospecies  \n0  44957.860305  34728.241203  174362.071117  195080.017497  \n1  44253.928250  34775.323749  191683.117963  195737.497321  \n2  47375.948754  35560.015263  194269.924301  201066.120815  \n3  49194.442590  34835.132184  181362.573065  202584.917805  ",
      "text/html": "<div>\n<style scoped>\n    .dataframe tbody tr th:only-of-type {\n        vertical-align: middle;\n    }\n\n    .dataframe tbody tr th {\n        vertical-align: top;\n    }\n\n    .dataframe thead th {\n        text-align: right;\n    }\n</style>\n<table border=\"1\" class=\"dataframe\">\n  <thead>\n    <tr style=\"text-align: right;\">\n      <th></th>\n      <th>Queries</th>\n      <th>skos</th>\n      <th>generations</th>\n      <th>travel</th>\n      <th>univ_bench</th>\n      <th>atom_primitive</th>\n      <th>biomedical_mesure_primitive</th>\n      <th>foaf</th>\n      <th>people_pets</th>\n      <th>funding</th>\n      <th>wine</th>\n      <th>pizza</th>\n      <th>core</th>\n      <th>pathways</th>\n      <th>enzyme</th>\n      <th>eclass_514en</th>\n      <th>go_hierarchy</th>\n      <th>go</th>\n      <th>geospecies</th>\n    </tr>\n  </thead>\n  <tbody>\n    <tr>\n      <th>0</th>\n      <td>L1 (L2 | L3)*</td>\n      <td>27.507620</td>\n      <td>29.216950</td>\n      <td>28.726575</td>\n      <td>33.628161</td>\n      <td>47.885875</td>\n      <td>58.577086</td>\n      <td>59.690414</td>\n      <td>66.832614</td>\n      <td>114.577661</td>\n      <td>169.754683</td>\n      <td>175.572096</td>\n      <td>274.748120</td>\n      <td>1248.813167</td>\n      <td>8379.383736</td>\n      <td>44957.860305</td>\n      <td>34728.241203</td>\n      <td>174362.071117</td>\n      <td>195080.017497</td>\n    </tr>\n    <tr>\n      <th>1</th>\n      <td>L1* (L2 | L3)*</td>\n      <td>28.553018</td>\n      <td>30.307510</td>\n      <td>29.040275</td>\n      <td>32.708838</td>\n      <td>48.506873</td>\n      <td>55.176651</td>\n      <td>64.703553</td>\n      <td>67.320527</td>\n      <td>118.489582</td>\n      <td>173.989737</td>\n      <td>174.370239</td>\n      <td>273.645434</td>\n      <td>1248.305383</td>\n      <td>8518.943775</td>\n      <td>44253.928250</td>\n      <td>34775.323749</td>\n      <td>191683.117963</td>\n      <td>195737.497321</td>\n    </tr>\n    <tr>\n      <th>2</th>\n      <td>(L4 | L2)* L1 L2 L3</td>\n      <td>32.723814</td>\n      <td>32.373796</td>\n      <td>33.438435</td>\n      <td>35.911215</td>\n      <td>53.295124</td>\n      <td>62.544296</td>\n      <td>61.782723</td>\n      <td>74.330668</td>\n      <td>122.876851</td>\n      <td>190.271286</td>\n      <td>184.534778</td>\n      <td>289.794789</td>\n      <td>1306.699510</td>\n      <td>9071.258657</td>\n      <td>47375.948754</td>\n      <td>35560.015263</td>\n      <td>194269.924301</td>\n      <td>201066.120815</td>\n    </tr>\n    <tr>\n      <th>3</th>\n      <td>(L1 | L4)* | (L2 | L3)*</td>\n      <td>31.160785</td>\n      <td>33.650010</td>\n      <td>32.105690</td>\n      <td>35.054784</td>\n      <td>52.518852</td>\n      <td>58.151427</td>\n      <td>66.136575</td>\n      <td>69.087267</td>\n      <td>125.098088</td>\n      <td>184.066569</td>\n      <td>183.642657</td>\n      <td>291.481069</td>\n      <td>1279.326143</td>\n      <td>8737.727205</td>\n      <td>49194.442590</td>\n      <td>34835.132184</td>\n      <td>181362.573065</td>\n      <td>202584.917805</td>\n    </tr>\n  </tbody>\n</table>\n</div>"
     },
     "execution_count": 43,
     "metadata": {},
     "output_type": "execute_result"
    }
   ]
  },
  {
   "cell_type": "markdown",
   "metadata": {
    "id": "o5rYifpNdxn7"
   },
   "source": [
    "### Алгоритм, основанный на pycubool\n",
    "#### Время работы алгоритма (в мс) в зависимости от графа и регулярного выражения:"
   ]
  },
  {
   "cell_type": "code",
   "metadata": {
    "pycharm": {
     "name": "#%%\n"
    },
    "id": "oIAPMGQ7euUi",
    "outputId": "a2d51d40-dcc6-43f3-8a69-2b2e058be905"
   },
   "source": [
    "df_pycubool_res"
   ],
   "execution_count": null,
   "outputs": [
    {
     "data": {
      "text/plain": "                   Queries       skos  generations     travel  univ_bench  \\\n0            L1 (L2 | L3)*  22.328282    23.096711  22.318093   25.644526   \n1           L1* (L2 | L3)*  22.637799    23.507626  22.365214   25.457005   \n2      (L4 | L2)* L1 L2 L3  22.532535    24.286403  24.392444   26.566552   \n3  (L1 | L4)* | (L2 | L3)*  22.901825    25.738004  24.553496   28.115576   \n\n   atom_primitive  biomedical_mesure_primitive       foaf  people_pets  \\\n0       39.141207                    41.848726  48.430614    55.826003   \n1       38.957658                    45.032373  49.106758    56.555636   \n2       41.483552                    47.192517  50.901283    56.147996   \n3       40.657536                    43.444660  49.357560    57.803577   \n\n      funding        wine       pizza        core     pathways       enzyme  \\\n0   97.462780  159.631252  146.061300  244.937493  1059.690324  7410.373415   \n1   96.185554  159.776661  146.432259  243.140946  1074.999626  7412.786602   \n2  104.088027  164.010024  152.106038  257.211026  1095.367551  7732.830444   \n3  103.491368  161.850983  148.824248  250.464707  1095.529918  7643.017224   \n\n   eclass_514en  go_hierarchy             go     geospecies  \n0  37168.790216  27316.093957  162915.342890  179216.788958  \n1  37669.018073  26703.247384  163358.811113  180317.092748  \n2  39132.222589  27092.806149  163380.116678  180522.096709  \n3  38793.831876  26087.297380  159711.500791  174877.262997  ",
      "text/html": "<div>\n<style scoped>\n    .dataframe tbody tr th:only-of-type {\n        vertical-align: middle;\n    }\n\n    .dataframe tbody tr th {\n        vertical-align: top;\n    }\n\n    .dataframe thead th {\n        text-align: right;\n    }\n</style>\n<table border=\"1\" class=\"dataframe\">\n  <thead>\n    <tr style=\"text-align: right;\">\n      <th></th>\n      <th>Queries</th>\n      <th>skos</th>\n      <th>generations</th>\n      <th>travel</th>\n      <th>univ_bench</th>\n      <th>atom_primitive</th>\n      <th>biomedical_mesure_primitive</th>\n      <th>foaf</th>\n      <th>people_pets</th>\n      <th>funding</th>\n      <th>wine</th>\n      <th>pizza</th>\n      <th>core</th>\n      <th>pathways</th>\n      <th>enzyme</th>\n      <th>eclass_514en</th>\n      <th>go_hierarchy</th>\n      <th>go</th>\n      <th>geospecies</th>\n    </tr>\n  </thead>\n  <tbody>\n    <tr>\n      <th>0</th>\n      <td>L1 (L2 | L3)*</td>\n      <td>22.328282</td>\n      <td>23.096711</td>\n      <td>22.318093</td>\n      <td>25.644526</td>\n      <td>39.141207</td>\n      <td>41.848726</td>\n      <td>48.430614</td>\n      <td>55.826003</td>\n      <td>97.462780</td>\n      <td>159.631252</td>\n      <td>146.061300</td>\n      <td>244.937493</td>\n      <td>1059.690324</td>\n      <td>7410.373415</td>\n      <td>37168.790216</td>\n      <td>27316.093957</td>\n      <td>162915.342890</td>\n      <td>179216.788958</td>\n    </tr>\n    <tr>\n      <th>1</th>\n      <td>L1* (L2 | L3)*</td>\n      <td>22.637799</td>\n      <td>23.507626</td>\n      <td>22.365214</td>\n      <td>25.457005</td>\n      <td>38.957658</td>\n      <td>45.032373</td>\n      <td>49.106758</td>\n      <td>56.555636</td>\n      <td>96.185554</td>\n      <td>159.776661</td>\n      <td>146.432259</td>\n      <td>243.140946</td>\n      <td>1074.999626</td>\n      <td>7412.786602</td>\n      <td>37669.018073</td>\n      <td>26703.247384</td>\n      <td>163358.811113</td>\n      <td>180317.092748</td>\n    </tr>\n    <tr>\n      <th>2</th>\n      <td>(L4 | L2)* L1 L2 L3</td>\n      <td>22.532535</td>\n      <td>24.286403</td>\n      <td>24.392444</td>\n      <td>26.566552</td>\n      <td>41.483552</td>\n      <td>47.192517</td>\n      <td>50.901283</td>\n      <td>56.147996</td>\n      <td>104.088027</td>\n      <td>164.010024</td>\n      <td>152.106038</td>\n      <td>257.211026</td>\n      <td>1095.367551</td>\n      <td>7732.830444</td>\n      <td>39132.222589</td>\n      <td>27092.806149</td>\n      <td>163380.116678</td>\n      <td>180522.096709</td>\n    </tr>\n    <tr>\n      <th>3</th>\n      <td>(L1 | L4)* | (L2 | L3)*</td>\n      <td>22.901825</td>\n      <td>25.738004</td>\n      <td>24.553496</td>\n      <td>28.115576</td>\n      <td>40.657536</td>\n      <td>43.444660</td>\n      <td>49.357560</td>\n      <td>57.803577</td>\n      <td>103.491368</td>\n      <td>161.850983</td>\n      <td>148.824248</td>\n      <td>250.464707</td>\n      <td>1095.529918</td>\n      <td>7643.017224</td>\n      <td>38793.831876</td>\n      <td>26087.297380</td>\n      <td>159711.500791</td>\n      <td>174877.262997</td>\n    </tr>\n  </tbody>\n</table>\n</div>"
     },
     "execution_count": 40,
     "metadata": {},
     "output_type": "execute_result"
    }
   ]
  },
  {
   "cell_type": "markdown",
   "metadata": {
    "collapsed": false,
    "id": "NthUggvfeuUk"
   },
   "source": [
    "## Результаты измерений для sparse и pyCuBool\n"
   ]
  },
  {
   "cell_type": "code",
   "metadata": {
    "pycharm": {
     "name": "#%%\n"
    },
    "id": "kmkGJBgUeuUk",
    "outputId": "f8baea06-604f-4124-89e8-7f716515b023"
   },
   "source": [
    "import pandas as pd\n",
    "import matplotlib.pyplot as plt\n",
    "import seaborn as sns\n",
    "%matplotlib inline\n",
    "\n",
    "fig, axes = plt.subplots(6, 3, figsize=(18, 20))\n",
    "fig.subplots_adjust(left=0.05, bottom=0.1, right=0.9, top=0.9, wspace=0.2, hspace=0.5)\n",
    "fig.suptitle('Производительность алгоритмов на графах для pyCuBool и sparse', fontsize=25)\n",
    "\n",
    "for i, graph_name in enumerate(GRAPH_NAMES):\n",
    "    res_sparse = df_sparse_res[graph_name]\n",
    "    res_pycubool = df_pycubool_res[graph_name]\n",
    "\n",
    "    df_all = pd.DataFrame(pd.concat([res_sparse, res_pycubool], ignore_index=True))\n",
    "    df_all['type'] = pd.Series([\"sparse\", \"sparse\", \"sparse\", \"sparse\", \"pycubool\", \"pycubool\", \"pycubool\", \"pycubool\"])\n",
    "\n",
    "    ax = sns.barplot(ax=axes[i // 3, i % 3], data=df_all, x=df_all.index % 4, y=graph_name, hue=\"type\")\n",
    "\n",
    "    delta = 5\n",
    "    if graph_name == \"enzyme\":\n",
    "        delta = 700\n",
    "    elif graph_name in {\"eclass_514en\", \"go_hierarchy\", \"go\", \"geospecies\"}:\n",
    "        delta = 10000\n",
    "\n",
    "    curr_min = df_all[graph_name].min() - delta\n",
    "    curr_max = df_all[graph_name].max() + delta\n",
    "    ax.set(title=graph_name, ylabel=\"Time (ms)\", xlabel=\"Query number\", ylim=(curr_min, curr_max))\n",
    "\n",
    "plt.show()\n"
   ],
   "execution_count": null,
   "outputs": [
    {
     "data": {
      "text/plain": "<Figure size 1296x1440 with 18 Axes>",
      "image/png": "[encoded data removed]"
     },
     "metadata": {
      "needs_background": "light"
     },
     "output_type": "display_data"
    }
   ]
  },
  {
   "cell_type": "markdown",
   "metadata": {
    "id": "gEsQSDtfxVjx"
   },
   "source": [
    "# Вывод\n",
    "\n",
    "По результатам диаграмм видно, что реализация алгоритма решения задачи $RPQ$ показывает лучшие результаты в случае применения библиотеки *pycubool* для реализации операций с разреженными булевыми матрицами. Это можно связать с тем фактом, что данная библиотека в своей реализации использует технологии *NVIDIA CUDA*."
   ]
  },
  {
   "cell_type": "code",
   "metadata": {
    "id": "dt924955xSVt"
   },
   "source": [
    ""
   ],
   "execution_count": null,
   "outputs": []
  }
 ]
}